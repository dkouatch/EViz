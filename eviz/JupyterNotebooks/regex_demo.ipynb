{
 "cells": [
  {
   "cell_type": "markdown",
   "id": "78b2e56f",
   "metadata": {},
   "source": [
    "**Purpose:** testing the built-in RegEx module from Python\n",
    "\n",
    "**Goal:** represent and identify OMI and Landsat file naming conventions\n",
    "\n",
    "Resource: https://www.w3schools.com/python/python_regex.asp"
   ]
  },
  {
   "cell_type": "code",
   "execution_count": null,
   "id": "9c3c7ad2",
   "metadata": {},
   "outputs": [],
   "source": [
    "import re"
   ]
  },
  {
   "cell_type": "markdown",
   "id": "5f069157",
   "metadata": {},
   "source": [
    "# Landsat File Naming Conventions\n",
    "\n",
    "## LXS PPPRRR YYYYDDD GSIVV\n",
    "\n",
    "### Information about what type of satellite and sensor\n",
    "    L = Landsat\n",
    "    X = Sensor\n",
    "        'C' = OLI & IRS\n",
    "        'O' = OLI only\n",
    "        'I' = IRS only\n",
    "        'E' = ETM+\n",
    "        'T' = TM\n",
    "        'M' = MSS\n",
    "    S = Satellite\n",
    "        '8' = Landsat-8\n",
    "        '7' = Landsat-7\n",
    "        ...\n",
    "        '1' = Landsat-1\n",
    "\n",
    "### Swath location on Earth using Worldwide Reference System (WRS)\n",
    "    PPP -> WRS path\n",
    "    RRR -> WRS row\n",
    "\n",
    "### Date of swath acquisition using Julian calendar (# of days in year starting on Jan. 1)\n",
    "    YYYY -> year of acquisition\n",
    "    DDD -> Julian day of year\n",
    "\n",
    "### How the data was received by a ground station\n",
    "    GSI -> Ground station identifier\n",
    "    VV -> Archive version number\n",
    "\n",
    "### ex. LT50830152011198GLC00.hdf\n",
    "        • Landsat-5 TM\n",
    "        • WRS Path: 083; WRS Row: 015\n",
    "        • Acquisition Date: July 17, 2011\n",
    "        • Gilmore Creek ground station at NOAA facility near Fairbanks, Alaska"
   ]
  },
  {
   "cell_type": "code",
   "execution_count": null,
   "id": "5b31d855",
   "metadata": {},
   "outputs": [],
   "source": [
    "lxs = \"L[COITEM][1-8]\"\n",
    "loc = \"[0-9][0-9][0-9]\" + \"[0-9][0-9][0-9]\"\n",
    "date = \"[12][0-9][0-9][0-9]\" + \"[0-3][0-9][0-9]\"\n",
    "data = \"[A-Z][A-Z][A-Z]\" + \"[0-9][0-9]\"\n",
    "ext = \"[.]...\""
   ]
  },
  {
   "cell_type": "code",
   "execution_count": null,
   "id": "a01406b8",
   "metadata": {},
   "outputs": [],
   "source": [
    "landsat = \"^\"+lxs+loc+date+data+ext\n",
    "\n",
    "landsat"
   ]
  },
  {
   "cell_type": "code",
   "execution_count": null,
   "id": "475be8e0",
   "metadata": {},
   "outputs": [],
   "source": [
    "fn = \"LT50830152011198GLC00.hdf\""
   ]
  },
  {
   "cell_type": "code",
   "execution_count": null,
   "id": "bb1676fc",
   "metadata": {},
   "outputs": [],
   "source": [
    "x = re.search(landsat, fn)\n",
    "\n",
    "x"
   ]
  },
  {
   "cell_type": "code",
   "execution_count": null,
   "id": "e13693cc",
   "metadata": {},
   "outputs": [],
   "source": [
    "if isinstance(x, type(None)):\n",
    "    print(\"May not be a Landsat file.\")\n",
    "elif x.group() == fn:\n",
    "    print(\"The whole string matches! This must be a Landsat file!\")"
   ]
  },
  {
   "cell_type": "code",
   "execution_count": null,
   "id": "8036ed01",
   "metadata": {},
   "outputs": [],
   "source": []
  },
  {
   "cell_type": "markdown",
   "id": "278c8ee5",
   "metadata": {},
   "source": [
    "# OMI Naming Conventions\n",
    "\n",
    "## \\<Instrument ID>_\\<Data Type>_\\<Data ID>_\\<Version Info>.\\<Suffix>\n",
    "\n",
    "### Instrument ID: ID for instrument and spacecraft\n",
    "\n",
    "    ex. 'OMI-Aura' -> OMI on the Aura spacecraft\n",
    "    \n",
    "### Data Type: level and product indicators\n",
    "\n",
    "    ex. 'L3-OMNO2d' -> OMI Level 3 NO2 data product\n",
    "    \n",
    "### Data ID:\n",
    "\n",
    "    Format:\n",
    "        <date>\n",
    "        <yyyy>m<mmdd>t<hhmmss>\n",
    "        \n",
    "### Version:\n",
    "    Format:\n",
    "        v<version>-<production date and time>\n",
    "            version -> <nnn>\n",
    "            date-time -> <yyyy>m<mmdd>t<hhmmss>\n",
    "            \n",
    "### Suffix\n",
    "    ex. 'he5'\n",
    "    \n",
    "\n",
    "### ex. OMI-Aura_L3-OMTO3e_2022m0709_v003-2022m0711t031807.he5\n",
    "    Instrument ID: OMI on the Aura spacecraft\n",
    "    Data Type: OMI Level 3\n",
    "    Data ID: July 9, 2022\n",
    "    Version:\n",
    "        Version No. 003\n",
    "        Production Date & Time - July 11, 2022 at 03:18:07 (UTC)\n",
    "    Suffix: he5"
   ]
  },
  {
   "cell_type": "code",
   "execution_count": null,
   "id": "28d4c9e4",
   "metadata": {},
   "outputs": [],
   "source": [
    "instr = \"OM.+\"\n",
    "dtype = \"L[1-3]-.+\"\n",
    "date = \"[1-2][0-9][0-9][0-9]m[0-1][0-9][0-3][0-9].*\"\n",
    "vers = \"v[0-0][0-9][0-9]-\" + date + \"t[0-2][0-9][0-6][0-9][0-6][0-9]\"\n",
    "ext = \"[.]...\""
   ]
  },
  {
   "cell_type": "code",
   "execution_count": null,
   "id": "7a2f07c2",
   "metadata": {},
   "outputs": [],
   "source": [
    "omi = \"^\"+instr+\"_\"+dtype+\"_\"+date+\"_\"+vers+ext\n",
    "\n",
    "omi"
   ]
  },
  {
   "cell_type": "code",
   "execution_count": null,
   "id": "ad1b3c0f",
   "metadata": {},
   "outputs": [],
   "source": [
    "fn = \"OMI-Aura_L3-OMTO3e_2022m0709_v003-2022m0711t031807.he5\""
   ]
  },
  {
   "cell_type": "code",
   "execution_count": null,
   "id": "e56522fa",
   "metadata": {},
   "outputs": [],
   "source": [
    "x = re.search(omi, fn)\n",
    "\n",
    "x"
   ]
  },
  {
   "cell_type": "code",
   "execution_count": null,
   "id": "3714f432",
   "metadata": {},
   "outputs": [],
   "source": [
    "if isinstance(x, type(None)):\n",
    "    print(\"May not be an OMI file.\")\n",
    "elif x.group() == fn:\n",
    "    print(\"The whole string matches! This must be an OMI file!\")"
   ]
  },
  {
   "cell_type": "code",
   "execution_count": null,
   "id": "d2cca030",
   "metadata": {},
   "outputs": [],
   "source": []
  }
 ],
 "metadata": {
  "kernelspec": {
   "display_name": "Python 3 (ipykernel)",
   "language": "python",
   "name": "python3"
  },
  "language_info": {
   "codemirror_mode": {
    "name": "ipython",
    "version": 3
   },
   "file_extension": ".py",
   "mimetype": "text/x-python",
   "name": "python",
   "nbconvert_exporter": "python",
   "pygments_lexer": "ipython3",
   "version": "3.9.12"
  }
 },
 "nbformat": 4,
 "nbformat_minor": 5
}
